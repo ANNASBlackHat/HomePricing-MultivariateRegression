{
  "nbformat": 4,
  "nbformat_minor": 0,
  "metadata": {
    "colab": {
      "name": "Home Pricing .ipynb",
      "version": "0.3.2",
      "provenance": [],
      "include_colab_link": true
    }
  },
  "cells": [
    {
      "cell_type": "markdown",
      "metadata": {
        "id": "view-in-github",
        "colab_type": "text"
      },
      "source": [
        "[View in Colaboratory](https://colab.research.google.com/github/ANNASBlackHat/HomePricing-MultivariateRegression/blob/master/Home_Pricing_.ipynb)"
      ]
    },
    {
      "metadata": {
        "id": "Neoz9IXKNhGQ",
        "colab_type": "text"
      },
      "cell_type": "markdown",
      "source": [
        "**Mount Google Drive, because I'm using Google Colab**"
      ]
    },
    {
      "metadata": {
        "id": "fVfdYgsGNAvl",
        "colab_type": "code",
        "colab": {
          "base_uri": "https://localhost:8080/",
          "height": 34
        },
        "outputId": "562a07b0-797c-421d-f55c-2151f3afbf75"
      },
      "cell_type": "code",
      "source": [
        "from google.colab import drive\n",
        "drive.mount('/content/drive')"
      ],
      "execution_count": 2,
      "outputs": [
        {
          "output_type": "stream",
          "text": [
            "Mounted at /content/drive\n"
          ],
          "name": "stdout"
        }
      ]
    },
    {
      "metadata": {
        "id": "nEBEyLsrO2X_",
        "colab_type": "text"
      },
      "cell_type": "markdown",
      "source": [
        "**Formula :**\n",
        "\n",
        "\n",
        "y = m1 x1 + m2 x2 + m3 x3 + b\n",
        "\n",
        "*in our case *: price = m1 \\* area + m2 \\* bedrooms + m3 * age + b  <br/><br/>\n",
        "**price** is dependent variable <br/>\n",
        "**area, bedrooms, age** are Independent variables (features) <br/>\n",
        "**m1, m2, m3** are Coefficients <br/>\n",
        "**b** is Intercept"
      ]
    },
    {
      "metadata": {
        "id": "x9wLYaNhQSCz",
        "colab_type": "code",
        "colab": {}
      },
      "cell_type": "code",
      "source": [
        "import pandas as pd\n",
        "import numpy as np\n",
        "from sklearn import linear_model"
      ],
      "execution_count": 0,
      "outputs": []
    },
    {
      "metadata": {
        "id": "ZgIrihnFRUnF",
        "colab_type": "text"
      },
      "cell_type": "markdown",
      "source": [
        "### Import CSV data"
      ]
    },
    {
      "metadata": {
        "id": "jgZsVqr0QzQF",
        "colab_type": "code",
        "colab": {
          "base_uri": "https://localhost:8080/",
          "height": 204
        },
        "outputId": "080deadf-18ff-4148-fb8a-9fee99db09cf"
      },
      "cell_type": "code",
      "source": [
        "parent_dir = \"/content/drive/My Drive/Colab Notebooks/HomePricing - Multiple Features/\"\n",
        "df = pd.read_csv(parent_dir + \"house_prices.csv\")\n",
        "df.head()"
      ],
      "execution_count": 8,
      "outputs": [
        {
          "output_type": "execute_result",
          "data": {
            "text/html": [
              "<div>\n",
              "<style scoped>\n",
              "    .dataframe tbody tr th:only-of-type {\n",
              "        vertical-align: middle;\n",
              "    }\n",
              "\n",
              "    .dataframe tbody tr th {\n",
              "        vertical-align: top;\n",
              "    }\n",
              "\n",
              "    .dataframe thead th {\n",
              "        text-align: right;\n",
              "    }\n",
              "</style>\n",
              "<table border=\"1\" class=\"dataframe\">\n",
              "  <thead>\n",
              "    <tr style=\"text-align: right;\">\n",
              "      <th></th>\n",
              "      <th>area</th>\n",
              "      <th>bedrooms</th>\n",
              "      <th>age</th>\n",
              "      <th>price</th>\n",
              "    </tr>\n",
              "  </thead>\n",
              "  <tbody>\n",
              "    <tr>\n",
              "      <th>0</th>\n",
              "      <td>2600</td>\n",
              "      <td>3.0</td>\n",
              "      <td>20</td>\n",
              "      <td>550000</td>\n",
              "    </tr>\n",
              "    <tr>\n",
              "      <th>1</th>\n",
              "      <td>3000</td>\n",
              "      <td>4.0</td>\n",
              "      <td>15</td>\n",
              "      <td>565000</td>\n",
              "    </tr>\n",
              "    <tr>\n",
              "      <th>2</th>\n",
              "      <td>3200</td>\n",
              "      <td>NaN</td>\n",
              "      <td>18</td>\n",
              "      <td>610000</td>\n",
              "    </tr>\n",
              "    <tr>\n",
              "      <th>3</th>\n",
              "      <td>3600</td>\n",
              "      <td>3.0</td>\n",
              "      <td>30</td>\n",
              "      <td>594000</td>\n",
              "    </tr>\n",
              "    <tr>\n",
              "      <th>4</th>\n",
              "      <td>4000</td>\n",
              "      <td>5.0</td>\n",
              "      <td>8</td>\n",
              "      <td>760000</td>\n",
              "    </tr>\n",
              "  </tbody>\n",
              "</table>\n",
              "</div>"
            ],
            "text/plain": [
              "   area  bedrooms  age   price\n",
              "0  2600       3.0   20  550000\n",
              "1  3000       4.0   15  565000\n",
              "2  3200       NaN   18  610000\n",
              "3  3600       3.0   30  594000\n",
              "4  4000       5.0    8  760000"
            ]
          },
          "metadata": {
            "tags": []
          },
          "execution_count": 8
        }
      ]
    },
    {
      "metadata": {
        "id": "bNMErPqkRjzV",
        "colab_type": "text"
      },
      "cell_type": "markdown",
      "source": [
        "we have NaN data point, at this moment the way will handle it is by using median number for it's column"
      ]
    },
    {
      "metadata": {
        "id": "7o2rLeI-aRr4",
        "colab_type": "text"
      },
      "cell_type": "markdown",
      "source": [
        "### PRE-PROCESSING DATA"
      ]
    },
    {
      "metadata": {
        "id": "smKoWHa3bB9Q",
        "colab_type": "text"
      },
      "cell_type": "markdown",
      "source": [
        "Find median number for bedrooms column"
      ]
    },
    {
      "metadata": {
        "id": "2mU_9zh_QuOi",
        "colab_type": "code",
        "colab": {
          "base_uri": "https://localhost:8080/",
          "height": 34
        },
        "outputId": "8631195f-1ced-488b-fa7b-9cca8227275e"
      },
      "cell_type": "code",
      "source": [
        "import math\n",
        "bedrooms_median = math.floor(df.bedrooms.median())\n",
        "bedrooms_median"
      ],
      "execution_count": 9,
      "outputs": [
        {
          "output_type": "execute_result",
          "data": {
            "text/plain": [
              "3.0"
            ]
          },
          "metadata": {
            "tags": []
          },
          "execution_count": 9
        }
      ]
    },
    {
      "metadata": {
        "id": "hsJ9ZNjmad7j",
        "colab_type": "text"
      },
      "cell_type": "markdown",
      "source": [
        "Fill median to NaN column"
      ]
    },
    {
      "metadata": {
        "id": "TjgS4-jbZ9Ms",
        "colab_type": "code",
        "colab": {
          "base_uri": "https://localhost:8080/",
          "height": 204
        },
        "outputId": "e53e7dd3-1ac7-45f7-b778-66094f758860"
      },
      "cell_type": "code",
      "source": [
        "df.bedrooms = df.bedrooms.fillna(bedrooms_median)\n",
        "df.head()"
      ],
      "execution_count": 13,
      "outputs": [
        {
          "output_type": "execute_result",
          "data": {
            "text/html": [
              "<div>\n",
              "<style scoped>\n",
              "    .dataframe tbody tr th:only-of-type {\n",
              "        vertical-align: middle;\n",
              "    }\n",
              "\n",
              "    .dataframe tbody tr th {\n",
              "        vertical-align: top;\n",
              "    }\n",
              "\n",
              "    .dataframe thead th {\n",
              "        text-align: right;\n",
              "    }\n",
              "</style>\n",
              "<table border=\"1\" class=\"dataframe\">\n",
              "  <thead>\n",
              "    <tr style=\"text-align: right;\">\n",
              "      <th></th>\n",
              "      <th>area</th>\n",
              "      <th>bedrooms</th>\n",
              "      <th>age</th>\n",
              "      <th>price</th>\n",
              "    </tr>\n",
              "  </thead>\n",
              "  <tbody>\n",
              "    <tr>\n",
              "      <th>0</th>\n",
              "      <td>2600</td>\n",
              "      <td>3.0</td>\n",
              "      <td>20</td>\n",
              "      <td>550000</td>\n",
              "    </tr>\n",
              "    <tr>\n",
              "      <th>1</th>\n",
              "      <td>3000</td>\n",
              "      <td>4.0</td>\n",
              "      <td>15</td>\n",
              "      <td>565000</td>\n",
              "    </tr>\n",
              "    <tr>\n",
              "      <th>2</th>\n",
              "      <td>3200</td>\n",
              "      <td>3.0</td>\n",
              "      <td>18</td>\n",
              "      <td>610000</td>\n",
              "    </tr>\n",
              "    <tr>\n",
              "      <th>3</th>\n",
              "      <td>3600</td>\n",
              "      <td>3.0</td>\n",
              "      <td>30</td>\n",
              "      <td>594000</td>\n",
              "    </tr>\n",
              "    <tr>\n",
              "      <th>4</th>\n",
              "      <td>4000</td>\n",
              "      <td>5.0</td>\n",
              "      <td>8</td>\n",
              "      <td>760000</td>\n",
              "    </tr>\n",
              "  </tbody>\n",
              "</table>\n",
              "</div>"
            ],
            "text/plain": [
              "   area  bedrooms  age   price\n",
              "0  2600       3.0   20  550000\n",
              "1  3000       4.0   15  565000\n",
              "2  3200       3.0   18  610000\n",
              "3  3600       3.0   30  594000\n",
              "4  4000       5.0    8  760000"
            ]
          },
          "metadata": {
            "tags": []
          },
          "execution_count": 13
        }
      ]
    },
    {
      "metadata": {
        "id": "3aPTF_aLbmVF",
        "colab_type": "text"
      },
      "cell_type": "markdown",
      "source": [
        "### TRAINING MODEL"
      ]
    },
    {
      "metadata": {
        "id": "243ZzoodaBv9",
        "colab_type": "code",
        "colab": {
          "base_uri": "https://localhost:8080/",
          "height": 34
        },
        "outputId": "f467aeb6-a6b1-4249-c830-7ff43b24b82e"
      },
      "cell_type": "code",
      "source": [
        "reg = linear_model.LinearRegression()\n",
        "reg.fit(df[['area', 'bedrooms', 'age']], df.price)"
      ],
      "execution_count": 14,
      "outputs": [
        {
          "output_type": "execute_result",
          "data": {
            "text/plain": [
              "LinearRegression(copy_X=True, fit_intercept=True, n_jobs=1, normalize=False)"
            ]
          },
          "metadata": {
            "tags": []
          },
          "execution_count": 14
        }
      ]
    },
    {
      "metadata": {
        "id": "cZAsP0HMaDlJ",
        "colab_type": "code",
        "colab": {
          "base_uri": "https://localhost:8080/",
          "height": 51
        },
        "outputId": "568c8617-cdaf-42b0-808c-85a32bc6edb8"
      },
      "cell_type": "code",
      "source": [
        "print('Coefisiens : {}'.format(reg.coef_))\n",
        "print('Interception : {}'.format(reg.intercept_))"
      ],
      "execution_count": 15,
      "outputs": [
        {
          "output_type": "stream",
          "text": [
            "Coefisiens : [   137. -26300.  -6900.]\n",
            "Interception : 386700.0\n"
          ],
          "name": "stdout"
        }
      ]
    },
    {
      "metadata": {
        "id": "X-6pVVZeclLe",
        "colab_type": "text"
      },
      "cell_type": "markdown",
      "source": [
        "### PREDICT"
      ]
    },
    {
      "metadata": {
        "id": "Sq3vCyimcBHb",
        "colab_type": "code",
        "colab": {
          "base_uri": "https://localhost:8080/",
          "height": 34
        },
        "outputId": "f5cbfbdb-47c2-455e-ba19-ace6e2254bf6"
      },
      "cell_type": "code",
      "source": [
        "predict = reg.predict([[3000,3,40]])\n",
        "predict"
      ],
      "execution_count": 18,
      "outputs": [
        {
          "output_type": "execute_result",
          "data": {
            "text/plain": [
              "array([442800.])"
            ]
          },
          "metadata": {
            "tags": []
          },
          "execution_count": 18
        }
      ]
    },
    {
      "metadata": {
        "id": "ukfySnqzcbr4",
        "colab_type": "code",
        "colab": {}
      },
      "cell_type": "code",
      "source": [
        ""
      ],
      "execution_count": 0,
      "outputs": []
    }
  ]
}